{
 "cells": [
  {
   "cell_type": "code",
   "execution_count": 6,
   "metadata": {},
   "outputs": [],
   "source": [
    "%load_ext lab_black"
   ]
  },
  {
   "cell_type": "code",
   "execution_count": 25,
   "metadata": {},
   "outputs": [],
   "source": [
    "import jieba\n",
    "import wordcloud\n",
    "from PIL import Image\n",
    "import pandas as pd\n",
    "import numpy as np\n",
    "from wordcloud import WordCloud, get_single_color_func\n",
    "import matplotlib.pyplot as plt"
   ]
  },
  {
   "cell_type": "code",
   "execution_count": 8,
   "metadata": {},
   "outputs": [],
   "source": [
    "df = pd.read_excel(\"data\\苏州二手房.xlsx\")"
   ]
  },
  {
   "cell_type": "code",
   "execution_count": 9,
   "metadata": {},
   "outputs": [],
   "source": [
    "e = \"\".join([str(i) for i in df.title.tolist()])"
   ]
  },
  {
   "cell_type": "code",
   "execution_count": 19,
   "metadata": {},
   "outputs": [],
   "source": [
    "class GroupedColorFunc(object):\n",
    "    \"\"\"Create a color function object which assigns DIFFERENT SHADES of\n",
    "    specified colors to certain words based on the color to words mapping.\n",
    "    Uses wordcloud.get_single_color_func\n",
    "    Parameters\n",
    "    ----------\n",
    "    color_to_words : dict(str -> list(str))\n",
    "      A dictionary that maps a color to the list of words.\n",
    "    default_color : str\n",
    "      Color that will be assigned to a word that's not a member\n",
    "      of any value from color_to_words.\n",
    "    \"\"\"\n",
    "\n",
    "    def __init__(self, color_to_words, default_color):\n",
    "        self.color_func_to_words = [\n",
    "            (get_single_color_func(color), set(words))\n",
    "            for (color, words) in color_to_words.items()\n",
    "        ]\n",
    "\n",
    "        self.default_color_func = get_single_color_func(default_color)\n",
    "\n",
    "    def get_color_func(self, word):\n",
    "        \"\"\"Returns a single_color_func associated with the word\"\"\"\n",
    "        try:\n",
    "            color_func = next(\n",
    "                color_func\n",
    "                for (color_func, words) in self.color_func_to_words\n",
    "                if word in words\n",
    "            )\n",
    "        except StopIteration:\n",
    "            color_func = self.default_color_func\n",
    "\n",
    "        return color_func\n",
    "\n",
    "    def __call__(self, word, **kwargs):\n",
    "        return self.get_color_func(word)(word, **kwargs)\n",
    "\n",
    "\n",
    "class SimpleGroupedColorFunc(object):\n",
    "    \"\"\"Create a color function object which assigns EXACT colors\n",
    "    to certain words based on the color to words mapping\n",
    "    Parameters\n",
    "    ----------\n",
    "    color_to_words : dict(str -> list(str))\n",
    "      A dictionary that maps a color to the list of words.\n",
    "    default_color : str\n",
    "      Color that will be assigned to a word that's not a member\n",
    "      of any value from color_to_words.\n",
    "    \"\"\"\n",
    "\n",
    "    def __init__(self, color_to_words, default_color):\n",
    "        self.word_to_color = {\n",
    "            word: color for (color, words) in color_to_words.items() for word in words\n",
    "        }\n",
    "\n",
    "        self.default_color = default_color\n",
    "\n",
    "    def __call__(self, word, **kwargs):\n",
    "        return self.word_to_color.get(word, self.default_color)"
   ]
  },
  {
   "cell_type": "code",
   "execution_count": 38,
   "metadata": {},
   "outputs": [],
   "source": [
    "color_to_words = {\n",
    "    # words below will be colored with a green single color function\n",
    "    \"#800000\": [\"精装\", \"户型\", \"采光\", \"朝南\", \"地铁\"],\n",
    "    # will be colored with a red single color function\n",
    "    \"red\": [\n",
    "        \"ugly\",\n",
    "        \"implicit\",\n",
    "        \"complex\",\n",
    "    ],\n",
    "}\n",
    "\n",
    "default_color = \"grey\"\n",
    "grouped_color_func = GroupedColorFunc(color_to_words, default_color)"
   ]
  },
  {
   "cell_type": "code",
   "execution_count": 40,
   "metadata": {},
   "outputs": [
    {
     "data": {
      "image/png": "[encoded data removed]",
      "text/plain": [
       "<Figure size 432x288 with 1 Axes>"
      ]
     },
     "metadata": {
      "needs_background": "light"
     },
     "output_type": "display_data"
    }
   ],
   "source": [
    "str1 = \" \".join(jieba.cut(e))\n",
    "wc = wordcloud.WordCloud(\n",
    "    mask=np.array(Image.open(r\"pic/aa.jpg\")),\n",
    "    collocations=False,\n",
    "    font_path=\"C:/Windows/Fonts/simhei.ttf\",\n",
    "    background_color=\"white\",\n",
    "    width=1000,\n",
    "    height=800,\n",
    "    mode=\"RGBA\",\n",
    "    scale=15,\n",
    "    stopwords=[\"出售\", \"诚心\"],\n",
    "    color_func=grouped_color_func,\n",
    ").generate(str1)\n",
    "wc.to_file(f\"pic/总词云.png\")\n",
    "\n",
    "plt.imshow(wc)\n",
    "plt.axis(\"off\")\n",
    "plt.show()"
   ]
  },
  {
   "cell_type": "code",
   "execution_count": null,
   "metadata": {},
   "outputs": [],
   "source": []
  }
 ],
 "metadata": {
  "kernelspec": {
   "display_name": "Python 3",
   "language": "python",
   "name": "python3"
  },
  "language_info": {
   "codemirror_mode": {
    "name": "ipython",
    "version": 3
   },
   "file_extension": ".py",
   "mimetype": "text/x-python",
   "name": "python",
   "nbconvert_exporter": "python",
   "pygments_lexer": "ipython3",
   "version": "3.8.3"
  }
 },
 "nbformat": 4,
 "nbformat_minor": 4
}
