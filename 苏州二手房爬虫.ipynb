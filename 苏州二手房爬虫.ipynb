{
 "cells": [
  {
   "cell_type": "code",
   "execution_count": 1,
   "metadata": {},
   "outputs": [
    {
     "data": {
      "application/javascript": [
       "\n",
       "            setTimeout(function() {\n",
       "                var nbb_cell_id = 1;\n",
       "                var nbb_unformatted_code = \"%load_ext nb_black\";\n",
       "                var nbb_formatted_code = \"%load_ext nb_black\";\n",
       "                var nbb_cells = Jupyter.notebook.get_cells();\n",
       "                for (var i = 0; i < nbb_cells.length; ++i) {\n",
       "                    if (nbb_cells[i].input_prompt_number == nbb_cell_id) {\n",
       "                        if (nbb_cells[i].get_text() == nbb_unformatted_code) {\n",
       "                             nbb_cells[i].set_text(nbb_formatted_code);\n",
       "                        }\n",
       "                        break;\n",
       "                    }\n",
       "                }\n",
       "            }, 500);\n",
       "            "
      ],
      "text/plain": [
       "<IPython.core.display.Javascript object>"
      ]
     },
     "metadata": {},
     "output_type": "display_data"
    }
   ],
   "source": [
    "%load_ext nb_black"
   ]
  },
  {
   "cell_type": "code",
   "execution_count": 2,
   "metadata": {},
   "outputs": [
    {
     "data": {
      "application/javascript": [
       "\n",
       "            setTimeout(function() {\n",
       "                var nbb_cell_id = 2;\n",
       "                var nbb_unformatted_code = \"from bs4 import BeautifulSoup\\nimport pandas as pd\\nfrom tqdm import tqdm\\nimport math\\nimport requests\\nimport lxml\\nimport re\\nimport time\\nfrom fake_useragent import UserAgent\";\n",
       "                var nbb_formatted_code = \"from bs4 import BeautifulSoup\\nimport pandas as pd\\nfrom tqdm import tqdm\\nimport math\\nimport requests\\nimport lxml\\nimport re\\nimport time\\nfrom fake_useragent import UserAgent\";\n",
       "                var nbb_cells = Jupyter.notebook.get_cells();\n",
       "                for (var i = 0; i < nbb_cells.length; ++i) {\n",
       "                    if (nbb_cells[i].input_prompt_number == nbb_cell_id) {\n",
       "                        if (nbb_cells[i].get_text() == nbb_unformatted_code) {\n",
       "                             nbb_cells[i].set_text(nbb_formatted_code);\n",
       "                        }\n",
       "                        break;\n",
       "                    }\n",
       "                }\n",
       "            }, 500);\n",
       "            "
      ],
      "text/plain": [
       "<IPython.core.display.Javascript object>"
      ]
     },
     "metadata": {},
     "output_type": "display_data"
    }
   ],
   "source": [
    "from bs4 import BeautifulSoup\n",
    "import pandas as pd\n",
    "from tqdm import tqdm\n",
    "import math\n",
    "import requests\n",
    "import lxml\n",
    "import re\n",
    "import time\n",
    "from fake_useragent import UserAgent"
   ]
  },
  {
   "cell_type": "code",
   "execution_count": 8,
   "metadata": {},
   "outputs": [
    {
     "data": {
      "application/javascript": [
       "\n",
       "            setTimeout(function() {\n",
       "                var nbb_cell_id = 8;\n",
       "                var nbb_unformatted_code = \"area_dic = {\\n    \\\"\\u5de5\\u4e1a\\u56ed\\u533a\\\": \\\"gongyeyuan\\\",\\n    \\\"\\u5434\\u4e2d\\u533a\\\": \\\"wuzhong\\\",\\n    \\\"\\u59d1\\u82cf\\u533a\\\": \\\"gusu\\\",\\n   # \\\"\\u9ad8\\u65b0\\u533a\\\": \\\"gaoxin1\\\",\\n    \\\"\\u76f8\\u57ce\\u533a\\\": \\\"xiangcheng\\\",\\n    \\\"\\u5434\\u6c5f\\u533a\\\": \\\"wujiang\\\",\\n    \\\"\\u6606\\u5c71\\u5e02\\\": \\\"kunshan\\\",\\n}\";\n",
       "                var nbb_formatted_code = \"area_dic = {\\n    \\\"\\u5de5\\u4e1a\\u56ed\\u533a\\\": \\\"gongyeyuan\\\",\\n    \\\"\\u5434\\u4e2d\\u533a\\\": \\\"wuzhong\\\",\\n    \\\"\\u59d1\\u82cf\\u533a\\\": \\\"gusu\\\",\\n    # \\\"\\u9ad8\\u65b0\\u533a\\\": \\\"gaoxin1\\\",\\n    \\\"\\u76f8\\u57ce\\u533a\\\": \\\"xiangcheng\\\",\\n    \\\"\\u5434\\u6c5f\\u533a\\\": \\\"wujiang\\\",\\n    \\\"\\u6606\\u5c71\\u5e02\\\": \\\"kunshan\\\",\\n}\";\n",
       "                var nbb_cells = Jupyter.notebook.get_cells();\n",
       "                for (var i = 0; i < nbb_cells.length; ++i) {\n",
       "                    if (nbb_cells[i].input_prompt_number == nbb_cell_id) {\n",
       "                        if (nbb_cells[i].get_text() == nbb_unformatted_code) {\n",
       "                             nbb_cells[i].set_text(nbb_formatted_code);\n",
       "                        }\n",
       "                        break;\n",
       "                    }\n",
       "                }\n",
       "            }, 500);\n",
       "            "
      ],
      "text/plain": [
       "<IPython.core.display.Javascript object>"
      ]
     },
     "metadata": {},
     "output_type": "display_data"
    }
   ],
   "source": [
    "area_dic = {\n",
    "    \"工业园区\": \"gongyeyuan\",\n",
    "    \"吴中区\": \"wuzhong\",\n",
    "    \"姑苏区\": \"gusu\",\n",
    "    # \"高新区\": \"gaoxin1\",\n",
    "    \"相城区\": \"xiangcheng\",\n",
    "    \"吴江区\": \"wujiang\",\n",
    "    \"昆山市\": \"kunshan\",\n",
    "}"
   ]
  },
  {
   "cell_type": "code",
   "execution_count": 10,
   "metadata": {},
   "outputs": [
    {
     "data": {
      "application/javascript": [
       "\n",
       "            setTimeout(function() {\n",
       "                var nbb_cell_id = 10;\n",
       "                var nbb_unformatted_code = \"ua = UserAgent()\";\n",
       "                var nbb_formatted_code = \"ua = UserAgent()\";\n",
       "                var nbb_cells = Jupyter.notebook.get_cells();\n",
       "                for (var i = 0; i < nbb_cells.length; ++i) {\n",
       "                    if (nbb_cells[i].input_prompt_number == nbb_cell_id) {\n",
       "                        if (nbb_cells[i].get_text() == nbb_unformatted_code) {\n",
       "                             nbb_cells[i].set_text(nbb_formatted_code);\n",
       "                        }\n",
       "                        break;\n",
       "                    }\n",
       "                }\n",
       "            }, 500);\n",
       "            "
      ],
      "text/plain": [
       "<IPython.core.display.Javascript object>"
      ]
     },
     "metadata": {},
     "output_type": "display_data"
    }
   ],
   "source": [
    "ua = UserAgent()"
   ]
  },
  {
   "cell_type": "code",
   "execution_count": 11,
   "metadata": {},
   "outputs": [
    {
     "data": {
      "application/javascript": [
       "\n",
       "            setTimeout(function() {\n",
       "                var nbb_cell_id = 11;\n",
       "                var nbb_unformatted_code = \"headers = {\\n    \\\"User-Agent\\\": ua.random,\\n    \\\"Referer\\\": \\\"https://su.lianjia.com/ershoufang/\\\",\\n}\";\n",
       "                var nbb_formatted_code = \"headers = {\\n    \\\"User-Agent\\\": ua.random,\\n    \\\"Referer\\\": \\\"https://su.lianjia.com/ershoufang/\\\",\\n}\";\n",
       "                var nbb_cells = Jupyter.notebook.get_cells();\n",
       "                for (var i = 0; i < nbb_cells.length; ++i) {\n",
       "                    if (nbb_cells[i].input_prompt_number == nbb_cell_id) {\n",
       "                        if (nbb_cells[i].get_text() == nbb_unformatted_code) {\n",
       "                             nbb_cells[i].set_text(nbb_formatted_code);\n",
       "                        }\n",
       "                        break;\n",
       "                    }\n",
       "                }\n",
       "            }, 500);\n",
       "            "
      ],
      "text/plain": [
       "<IPython.core.display.Javascript object>"
      ]
     },
     "metadata": {},
     "output_type": "display_data"
    }
   ],
   "source": [
    "headers = {\n",
    "    \"User-Agent\": ua.random,\n",
    "    \"Referer\": \"https://su.lianjia.com/ershoufang/\",\n",
    "}"
   ]
  },
  {
   "cell_type": "code",
   "execution_count": 12,
   "metadata": {},
   "outputs": [
    {
     "data": {
      "application/javascript": [
       "\n",
       "            setTimeout(function() {\n",
       "                var nbb_cell_id = 12;\n",
       "                var nbb_unformatted_code = \"sess = requests.session()\\nsess.get(\\\"https://su.lianjia.com/ershoufang/\\\", headers=headers)\\n\\nurl = \\\"https://su.lianjia.com/ershoufang/{}/pg{}/\\\"\";\n",
       "                var nbb_formatted_code = \"sess = requests.session()\\nsess.get(\\\"https://su.lianjia.com/ershoufang/\\\", headers=headers)\\n\\nurl = \\\"https://su.lianjia.com/ershoufang/{}/pg{}/\\\"\";\n",
       "                var nbb_cells = Jupyter.notebook.get_cells();\n",
       "                for (var i = 0; i < nbb_cells.length; ++i) {\n",
       "                    if (nbb_cells[i].input_prompt_number == nbb_cell_id) {\n",
       "                        if (nbb_cells[i].get_text() == nbb_unformatted_code) {\n",
       "                             nbb_cells[i].set_text(nbb_formatted_code);\n",
       "                        }\n",
       "                        break;\n",
       "                    }\n",
       "                }\n",
       "            }, 500);\n",
       "            "
      ],
      "text/plain": [
       "<IPython.core.display.Javascript object>"
      ]
     },
     "metadata": {},
     "output_type": "display_data"
    }
   ],
   "source": [
    "sess = requests.session()\n",
    "sess.get(\"https://su.lianjia.com/ershoufang/\", headers=headers)\n",
    "\n",
    "url = \"https://su.lianjia.com/ershoufang/{}/pg{}/\""
   ]
  },
  {
   "cell_type": "code",
   "execution_count": 13,
   "metadata": {},
   "outputs": [
    {
     "data": {
      "application/javascript": [
       "\n",
       "            setTimeout(function() {\n",
       "                var nbb_cell_id = 13;\n",
       "                var nbb_unformatted_code = \"def re_match(re_pattern, string, errif=None):\\n    try:\\n        return re.findall(re_pattern, string)[0].strip()\\n    except IndexError:\\n        return errif\";\n",
       "                var nbb_formatted_code = \"def re_match(re_pattern, string, errif=None):\\n    try:\\n        return re.findall(re_pattern, string)[0].strip()\\n    except IndexError:\\n        return errif\";\n",
       "                var nbb_cells = Jupyter.notebook.get_cells();\n",
       "                for (var i = 0; i < nbb_cells.length; ++i) {\n",
       "                    if (nbb_cells[i].input_prompt_number == nbb_cell_id) {\n",
       "                        if (nbb_cells[i].get_text() == nbb_unformatted_code) {\n",
       "                             nbb_cells[i].set_text(nbb_formatted_code);\n",
       "                        }\n",
       "                        break;\n",
       "                    }\n",
       "                }\n",
       "            }, 500);\n",
       "            "
      ],
      "text/plain": [
       "<IPython.core.display.Javascript object>"
      ]
     },
     "metadata": {},
     "output_type": "display_data"
    }
   ],
   "source": [
    "def re_match(re_pattern, string, errif=None):\n",
    "    try:\n",
    "        return re.findall(re_pattern, string)[0].strip()\n",
    "    except IndexError:\n",
    "        return errif"
   ]
  },
  {
   "cell_type": "code",
   "execution_count": 14,
   "metadata": {},
   "outputs": [
    {
     "name": "stdout",
     "output_type": "stream",
     "text": [
      "💚工业园区: 二手房源共计「15235」套\n"
     ]
    },
    {
     "name": "stderr",
     "output_type": "stream",
     "text": [
      "工业园区: 100%|██████████████████████████████████████████████████████████████████████| 100/100 [01:44<00:00,  1.05s/it]\n"
     ]
    },
    {
     "name": "stdout",
     "output_type": "stream",
     "text": [
      "💚吴中区: 二手房源共计「15871」套\n"
     ]
    },
    {
     "name": "stderr",
     "output_type": "stream",
     "text": [
      "吴中区: 100%|████████████████████████████████████████████████████████████████████████| 100/100 [01:49<00:00,  1.10s/it]\n"
     ]
    },
    {
     "name": "stdout",
     "output_type": "stream",
     "text": [
      "💚姑苏区: 二手房源共计「11971」套\n"
     ]
    },
    {
     "name": "stderr",
     "output_type": "stream",
     "text": [
      "姑苏区: 100%|████████████████████████████████████████████████████████████████████████| 100/100 [01:59<00:00,  1.20s/it]\n"
     ]
    },
    {
     "name": "stdout",
     "output_type": "stream",
     "text": [
      "💚相城区: 二手房源共计「8816」套\n"
     ]
    },
    {
     "name": "stderr",
     "output_type": "stream",
     "text": [
      "相城区: 100%|████████████████████████████████████████████████████████████████████████| 100/100 [02:03<00:00,  1.23s/it]\n"
     ]
    },
    {
     "name": "stdout",
     "output_type": "stream",
     "text": [
      "💚吴江区: 二手房源共计「9231」套\n"
     ]
    },
    {
     "name": "stderr",
     "output_type": "stream",
     "text": [
      "吴江区: 100%|████████████████████████████████████████████████████████████████████████| 100/100 [02:08<00:00,  1.28s/it]\n"
     ]
    },
    {
     "name": "stdout",
     "output_type": "stream",
     "text": [
      "💚昆山市: 二手房源共计「26843」套\n"
     ]
    },
    {
     "name": "stderr",
     "output_type": "stream",
     "text": [
      "昆山市: 100%|████████████████████████████████████████████████████████████████████████| 100/100 [02:25<00:00,  1.46s/it]\n"
     ]
    },
    {
     "data": {
      "application/javascript": [
       "\n",
       "            setTimeout(function() {\n",
       "                var nbb_cell_id = 14;\n",
       "                var nbb_unformatted_code = \"# \\u65b0\\u5efa\\u4e00\\u4e2aDataFrame\\u5b58\\u50a8\\u4fe1\\u606f\\ndata = pd.DataFrame()\\n\\nfor key_, value_ in area_dic.items():\\n    # \\u83b7\\u53d6\\u8be5\\u884c\\u653f\\u533a\\u4e0b\\u623f\\u6e90\\u8bb0\\u5f55\\u6570\\n    start_url = \\\"https://su.lianjia.com/ershoufang/{}/\\\".format(value_)\\n    html = sess.get(start_url).text\\n    house_num = re.findall(\\\"\\u5171\\u627e\\u5230<span> (.*?) </span>\\u5957.*\\u4e8c\\u624b\\u623f\\\", html)[0].strip()\\n    print(\\\"\\ud83d\\udc9a{}: \\u4e8c\\u624b\\u623f\\u6e90\\u5171\\u8ba1\\u300c{}\\u300d\\u5957\\\".format(key_, house_num))\\n    time.sleep(1)\\n    # \\u9875\\u9762\\u9650\\u5236\\ud83d\\udeab \\u6bcf\\u4e2a\\u884c\\u653f\\u533a\\u53ea\\u80fd\\u83b7\\u53d6\\u6700\\u591a100\\u9875\\u5171\\u8ba13000\\u6761\\u623f\\u6e90\\u4fe1\\u606f\\n    total_page = int(math.ceil(min(3000, int(house_num)) / 30.0))\\n    for i in tqdm(range(total_page), desc=key_):\\n        html = sess.get(url.format(value_, i + 1)).text\\n        soup = BeautifulSoup(html, \\\"lxml\\\")\\n        info_collect = soup.find_all(class_=\\\"info clear\\\")\\n\\n        for info in info_collect:\\n            info_dic = {}\\n            # \\u884c\\u653f\\u533a\\n            info_dic[\\\"area\\\"] = key_\\n            # \\u623f\\u6e90\\u7684\\u6807\\u9898\\n            info_dic[\\\"title\\\"] = re_match('target=\\\"_blank\\\">(.*?)</a><!--', str(info))\\n            # \\u5c0f\\u533a\\u540d\\n            info_dic[\\\"community\\\"] = re_match(\\n                'xiaoqu.*?target=\\\"_blank\\\">(.*?)</a>', str(info)\\n            )\\n            # \\u4f4d\\u7f6e\\n            info_dic[\\\"position\\\"] = re_match(\\n                '<a href.*?target=\\\"_blank\\\">(.*?)</a>.*?class=\\\"address\\\">', str(info)\\n            )\\n            # \\u7a0e\\u76f8\\u5173\\uff0c\\u5982\\u623f\\u672c\\u6ee15\\u5e74\\n            info_dic[\\\"tax\\\"] = re_match('class=\\\"taxfree\\\">(.*?)</span>', str(info))\\n            # \\u603b\\u4ef7\\n            info_dic[\\\"total_price\\\"] = float(\\n                re_match('class=\\\"totalPrice\\\"><span>(.*?)</span>\\u4e07', str(info))\\n            )\\n            # \\u5355\\u4ef7\\n            info_dic[\\\"unit_price\\\"] = float(re_match('data-price=\\\"(.*?)\\\"', str(info)))\\n\\n            # \\u5339\\u914d\\u623f\\u6e90\\u6807\\u7b7e\\u4fe1\\u606f\\uff0c\\u901a\\u8fc7|\\u5207\\u5272\\n            # \\u5305\\u62ec\\u9762\\u79ef\\uff0c\\u671d\\u5411\\uff0c\\u88c5\\u4fee\\u7b49\\u4fe1\\u606f\\n            icons = (\\n                re.findall('class=\\\"houseIcon\\\"></span>(.*?)</div>', str(info))[0]\\n                .strip()\\n                .split(\\\"|\\\")\\n            )\\n            info_dic[\\\"hourseType\\\"] = icons[0].strip()\\n            info_dic[\\\"hourseSize\\\"] = float(icons[1].replace(\\\"\\u5e73\\u7c73\\\", \\\"\\\"))\\n            info_dic[\\\"direction\\\"] = icons[2].strip()\\n            info_dic[\\\"fitment\\\"] = icons[3].strip()\\n\\n            # \\u5b58\\u5165DataFrame\\n            if data.empty:\\n                data = pd.DataFrame(info_dic, index=[0])\\n            else:\\n                data = data.append(info_dic, ignore_index=True)\";\n",
       "                var nbb_formatted_code = \"# \\u65b0\\u5efa\\u4e00\\u4e2aDataFrame\\u5b58\\u50a8\\u4fe1\\u606f\\ndata = pd.DataFrame()\\n\\nfor key_, value_ in area_dic.items():\\n    # \\u83b7\\u53d6\\u8be5\\u884c\\u653f\\u533a\\u4e0b\\u623f\\u6e90\\u8bb0\\u5f55\\u6570\\n    start_url = \\\"https://su.lianjia.com/ershoufang/{}/\\\".format(value_)\\n    html = sess.get(start_url).text\\n    house_num = re.findall(\\\"\\u5171\\u627e\\u5230<span> (.*?) </span>\\u5957.*\\u4e8c\\u624b\\u623f\\\", html)[0].strip()\\n    print(\\\"\\ud83d\\udc9a{}: \\u4e8c\\u624b\\u623f\\u6e90\\u5171\\u8ba1\\u300c{}\\u300d\\u5957\\\".format(key_, house_num))\\n    time.sleep(1)\\n    # \\u9875\\u9762\\u9650\\u5236\\ud83d\\udeab \\u6bcf\\u4e2a\\u884c\\u653f\\u533a\\u53ea\\u80fd\\u83b7\\u53d6\\u6700\\u591a100\\u9875\\u5171\\u8ba13000\\u6761\\u623f\\u6e90\\u4fe1\\u606f\\n    total_page = int(math.ceil(min(3000, int(house_num)) / 30.0))\\n    for i in tqdm(range(total_page), desc=key_):\\n        html = sess.get(url.format(value_, i + 1)).text\\n        soup = BeautifulSoup(html, \\\"lxml\\\")\\n        info_collect = soup.find_all(class_=\\\"info clear\\\")\\n\\n        for info in info_collect:\\n            info_dic = {}\\n            # \\u884c\\u653f\\u533a\\n            info_dic[\\\"area\\\"] = key_\\n            # \\u623f\\u6e90\\u7684\\u6807\\u9898\\n            info_dic[\\\"title\\\"] = re_match('target=\\\"_blank\\\">(.*?)</a><!--', str(info))\\n            # \\u5c0f\\u533a\\u540d\\n            info_dic[\\\"community\\\"] = re_match(\\n                'xiaoqu.*?target=\\\"_blank\\\">(.*?)</a>', str(info)\\n            )\\n            # \\u4f4d\\u7f6e\\n            info_dic[\\\"position\\\"] = re_match(\\n                '<a href.*?target=\\\"_blank\\\">(.*?)</a>.*?class=\\\"address\\\">', str(info)\\n            )\\n            # \\u7a0e\\u76f8\\u5173\\uff0c\\u5982\\u623f\\u672c\\u6ee15\\u5e74\\n            info_dic[\\\"tax\\\"] = re_match('class=\\\"taxfree\\\">(.*?)</span>', str(info))\\n            # \\u603b\\u4ef7\\n            info_dic[\\\"total_price\\\"] = float(\\n                re_match('class=\\\"totalPrice\\\"><span>(.*?)</span>\\u4e07', str(info))\\n            )\\n            # \\u5355\\u4ef7\\n            info_dic[\\\"unit_price\\\"] = float(re_match('data-price=\\\"(.*?)\\\"', str(info)))\\n\\n            # \\u5339\\u914d\\u623f\\u6e90\\u6807\\u7b7e\\u4fe1\\u606f\\uff0c\\u901a\\u8fc7|\\u5207\\u5272\\n            # \\u5305\\u62ec\\u9762\\u79ef\\uff0c\\u671d\\u5411\\uff0c\\u88c5\\u4fee\\u7b49\\u4fe1\\u606f\\n            icons = (\\n                re.findall('class=\\\"houseIcon\\\"></span>(.*?)</div>', str(info))[0]\\n                .strip()\\n                .split(\\\"|\\\")\\n            )\\n            info_dic[\\\"hourseType\\\"] = icons[0].strip()\\n            info_dic[\\\"hourseSize\\\"] = float(icons[1].replace(\\\"\\u5e73\\u7c73\\\", \\\"\\\"))\\n            info_dic[\\\"direction\\\"] = icons[2].strip()\\n            info_dic[\\\"fitment\\\"] = icons[3].strip()\\n\\n            # \\u5b58\\u5165DataFrame\\n            if data.empty:\\n                data = pd.DataFrame(info_dic, index=[0])\\n            else:\\n                data = data.append(info_dic, ignore_index=True)\";\n",
       "                var nbb_cells = Jupyter.notebook.get_cells();\n",
       "                for (var i = 0; i < nbb_cells.length; ++i) {\n",
       "                    if (nbb_cells[i].input_prompt_number == nbb_cell_id) {\n",
       "                        if (nbb_cells[i].get_text() == nbb_unformatted_code) {\n",
       "                             nbb_cells[i].set_text(nbb_formatted_code);\n",
       "                        }\n",
       "                        break;\n",
       "                    }\n",
       "                }\n",
       "            }, 500);\n",
       "            "
      ],
      "text/plain": [
       "<IPython.core.display.Javascript object>"
      ]
     },
     "metadata": {},
     "output_type": "display_data"
    }
   ],
   "source": [
    "# 新建一个DataFrame存储信息\n",
    "data = pd.DataFrame()\n",
    "\n",
    "for key_, value_ in area_dic.items():\n",
    "    # 获取该行政区下房源记录数\n",
    "    start_url = \"https://su.lianjia.com/ershoufang/{}/\".format(value_)\n",
    "    html = sess.get(start_url).text\n",
    "    house_num = re.findall(\"共找到<span> (.*?) </span>套.*二手房\", html)[0].strip()\n",
    "    print(\"💚{}: 二手房源共计「{}」套\".format(key_, house_num))\n",
    "    time.sleep(1)\n",
    "    # 页面限制🚫 每个行政区只能获取最多100页共计3000条房源信息\n",
    "    total_page = int(math.ceil(min(3000, int(house_num)) / 30.0))\n",
    "    for i in tqdm(range(total_page), desc=key_):\n",
    "        html = sess.get(url.format(value_, i + 1)).text\n",
    "        soup = BeautifulSoup(html, \"lxml\")\n",
    "        info_collect = soup.find_all(class_=\"info clear\")\n",
    "\n",
    "        for info in info_collect:\n",
    "            info_dic = {}\n",
    "            # 行政区\n",
    "            info_dic[\"area\"] = key_\n",
    "            # 房源的标题\n",
    "            info_dic[\"title\"] = re_match('target=\"_blank\">(.*?)</a><!--', str(info))\n",
    "            # 小区名\n",
    "            info_dic[\"community\"] = re_match(\n",
    "                'xiaoqu.*?target=\"_blank\">(.*?)</a>', str(info)\n",
    "            )\n",
    "            # 位置\n",
    "            info_dic[\"position\"] = re_match(\n",
    "                '<a href.*?target=\"_blank\">(.*?)</a>.*?class=\"address\">', str(info)\n",
    "            )\n",
    "            # 税相关，如房本满5年\n",
    "            info_dic[\"tax\"] = re_match('class=\"taxfree\">(.*?)</span>', str(info))\n",
    "            # 总价\n",
    "            info_dic[\"total_price\"] = float(\n",
    "                re_match('class=\"totalPrice\"><span>(.*?)</span>万', str(info))\n",
    "            )\n",
    "            # 单价\n",
    "            info_dic[\"unit_price\"] = float(re_match('data-price=\"(.*?)\"', str(info)))\n",
    "\n",
    "            # 匹配房源标签信息，通过|切割\n",
    "            # 包括面积，朝向，装修等信息\n",
    "            icons = (\n",
    "                re.findall('class=\"houseIcon\"></span>(.*?)</div>', str(info))[0]\n",
    "                .strip()\n",
    "                .split(\"|\")\n",
    "            )\n",
    "            info_dic[\"hourseType\"] = icons[0].strip()\n",
    "            info_dic[\"hourseSize\"] = float(icons[1].replace(\"平米\", \"\"))\n",
    "            info_dic[\"direction\"] = icons[2].strip()\n",
    "            info_dic[\"fitment\"] = icons[3].strip()\n",
    "\n",
    "            # 存入DataFrame\n",
    "            if data.empty:\n",
    "                data = pd.DataFrame(info_dic, index=[0])\n",
    "            else:\n",
    "                data = data.append(info_dic, ignore_index=True)"
   ]
  },
  {
   "cell_type": "code",
   "execution_count": 15,
   "metadata": {},
   "outputs": [
    {
     "data": {
      "text/html": [
       "<div>\n",
       "<style scoped>\n",
       "    .dataframe tbody tr th:only-of-type {\n",
       "        vertical-align: middle;\n",
       "    }\n",
       "\n",
       "    .dataframe tbody tr th {\n",
       "        vertical-align: top;\n",
       "    }\n",
       "\n",
       "    .dataframe thead th {\n",
       "        text-align: right;\n",
       "    }\n",
       "</style>\n",
       "<table border=\"1\" class=\"dataframe\">\n",
       "  <thead>\n",
       "    <tr style=\"text-align: right;\">\n",
       "      <th></th>\n",
       "      <th>area</th>\n",
       "      <th>title</th>\n",
       "      <th>community</th>\n",
       "      <th>position</th>\n",
       "      <th>tax</th>\n",
       "      <th>total_price</th>\n",
       "      <th>unit_price</th>\n",
       "      <th>hourseType</th>\n",
       "      <th>hourseSize</th>\n",
       "      <th>direction</th>\n",
       "      <th>fitment</th>\n",
       "    </tr>\n",
       "  </thead>\n",
       "  <tbody>\n",
       "    <tr>\n",
       "      <th>0</th>\n",
       "      <td>工业园区</td>\n",
       "      <td>金湖湾正四房  四开间朝南 开发商统一装修</td>\n",
       "      <td>金湖湾花园</td>\n",
       "      <td>湖东CBD</td>\n",
       "      <td>房本满五年</td>\n",
       "      <td>825.0</td>\n",
       "      <td>49771.0</td>\n",
       "      <td>4室2厅</td>\n",
       "      <td>165.76</td>\n",
       "      <td>南</td>\n",
       "      <td>精装</td>\n",
       "    </tr>\n",
       "    <tr>\n",
       "      <th>1</th>\n",
       "      <td>工业园区</td>\n",
       "      <td>玲珑湾复式四房 利用高 双开门  诚售 看房有钥匙</td>\n",
       "      <td>玲珑湾花园二区</td>\n",
       "      <td>玲珑</td>\n",
       "      <td>房本满五年</td>\n",
       "      <td>788.0</td>\n",
       "      <td>46255.0</td>\n",
       "      <td>4室2厅</td>\n",
       "      <td>170.36</td>\n",
       "      <td>南 北</td>\n",
       "      <td>毛坯</td>\n",
       "    </tr>\n",
       "    <tr>\n",
       "      <th>2</th>\n",
       "      <td>工业园区</td>\n",
       "      <td>户型方正，楼层采光好，房东诚意出售，看房方便</td>\n",
       "      <td>东湖春之韵</td>\n",
       "      <td>湖东CBD</td>\n",
       "      <td>房本满五年</td>\n",
       "      <td>519.0</td>\n",
       "      <td>43894.0</td>\n",
       "      <td>3室2厅</td>\n",
       "      <td>118.24</td>\n",
       "      <td>南</td>\n",
       "      <td>精装</td>\n",
       "    </tr>\n",
       "    <tr>\n",
       "      <th>3</th>\n",
       "      <td>工业园区</td>\n",
       "      <td>尚玲珑湾大平层四房  四开间朝南 小区中间位置安静</td>\n",
       "      <td>玲珑湾花园七八区</td>\n",
       "      <td>玲珑</td>\n",
       "      <td>None</td>\n",
       "      <td>1280.0</td>\n",
       "      <td>67178.0</td>\n",
       "      <td>4室2厅</td>\n",
       "      <td>190.54</td>\n",
       "      <td>东</td>\n",
       "      <td>精装</td>\n",
       "    </tr>\n",
       "    <tr>\n",
       "      <th>4</th>\n",
       "      <td>工业园区</td>\n",
       "      <td>奥体板块品质两房，户型正气，南北通风，位置采光好</td>\n",
       "      <td>中海国际社区（四区）</td>\n",
       "      <td>湖东</td>\n",
       "      <td>房本满五年</td>\n",
       "      <td>418.0</td>\n",
       "      <td>43093.0</td>\n",
       "      <td>2室2厅</td>\n",
       "      <td>97.00</td>\n",
       "      <td>南</td>\n",
       "      <td>精装</td>\n",
       "    </tr>\n",
       "    <tr>\n",
       "      <th>...</th>\n",
       "      <td>...</td>\n",
       "      <td>...</td>\n",
       "      <td>...</td>\n",
       "      <td>...</td>\n",
       "      <td>...</td>\n",
       "      <td>...</td>\n",
       "      <td>...</td>\n",
       "      <td>...</td>\n",
       "      <td>...</td>\n",
       "      <td>...</td>\n",
       "      <td>...</td>\n",
       "    </tr>\n",
       "    <tr>\n",
       "      <th>17994</th>\n",
       "      <td>昆山市</td>\n",
       "      <td>雅居乐二期前排，烫金楼层，4房，新城公园商圈物业好</td>\n",
       "      <td>昆山雅居乐花园</td>\n",
       "      <td>千灯</td>\n",
       "      <td>None</td>\n",
       "      <td>160.0</td>\n",
       "      <td>13331.0</td>\n",
       "      <td>4室2厅</td>\n",
       "      <td>120.03</td>\n",
       "      <td>南 北</td>\n",
       "      <td>精装</td>\n",
       "    </tr>\n",
       "    <tr>\n",
       "      <th>17995</th>\n",
       "      <td>昆山市</td>\n",
       "      <td>地铁口满五唯一 南北户型 小区中间景观楼层</td>\n",
       "      <td>东方华庭</td>\n",
       "      <td>玉山老城区</td>\n",
       "      <td>房本满五年</td>\n",
       "      <td>298.0</td>\n",
       "      <td>21077.0</td>\n",
       "      <td>3室2厅</td>\n",
       "      <td>141.39</td>\n",
       "      <td>南 北</td>\n",
       "      <td>简装</td>\n",
       "    </tr>\n",
       "    <tr>\n",
       "      <th>17996</th>\n",
       "      <td>昆山市</td>\n",
       "      <td>万科经典两房 小房间改造好 楼层位置无遮挡 满二</td>\n",
       "      <td>万科魅力花园</td>\n",
       "      <td>花桥</td>\n",
       "      <td>None</td>\n",
       "      <td>125.0</td>\n",
       "      <td>18903.0</td>\n",
       "      <td>2室2厅</td>\n",
       "      <td>66.13</td>\n",
       "      <td>南</td>\n",
       "      <td>精装</td>\n",
       "    </tr>\n",
       "    <tr>\n",
       "      <th>17997</th>\n",
       "      <td>昆山市</td>\n",
       "      <td>花苑简装小两房，南北通透，中间楼层，诚心买价可谈</td>\n",
       "      <td>花苑新村（花桥）</td>\n",
       "      <td>花桥</td>\n",
       "      <td>房本满五年</td>\n",
       "      <td>126.0</td>\n",
       "      <td>15756.0</td>\n",
       "      <td>2室2厅</td>\n",
       "      <td>79.97</td>\n",
       "      <td>南 北</td>\n",
       "      <td>简装</td>\n",
       "    </tr>\n",
       "    <tr>\n",
       "      <th>17998</th>\n",
       "      <td>昆山市</td>\n",
       "      <td>碧水佳园北区大两房，精装修，采光充足</td>\n",
       "      <td>碧水佳园</td>\n",
       "      <td>巴城</td>\n",
       "      <td>房本满五年</td>\n",
       "      <td>118.0</td>\n",
       "      <td>14300.0</td>\n",
       "      <td>2室2厅</td>\n",
       "      <td>82.52</td>\n",
       "      <td>南</td>\n",
       "      <td>精装</td>\n",
       "    </tr>\n",
       "  </tbody>\n",
       "</table>\n",
       "<p>17999 rows × 11 columns</p>\n",
       "</div>"
      ],
      "text/plain": [
       "       area                      title   community position    tax  \\\n",
       "0      工业园区      金湖湾正四房  四开间朝南 开发商统一装修       金湖湾花园    湖东CBD  房本满五年   \n",
       "1      工业园区  玲珑湾复式四房 利用高 双开门  诚售 看房有钥匙     玲珑湾花园二区       玲珑  房本满五年   \n",
       "2      工业园区     户型方正，楼层采光好，房东诚意出售，看房方便       东湖春之韵    湖东CBD  房本满五年   \n",
       "3      工业园区  尚玲珑湾大平层四房  四开间朝南 小区中间位置安静    玲珑湾花园七八区       玲珑   None   \n",
       "4      工业园区   奥体板块品质两房，户型正气，南北通风，位置采光好  中海国际社区（四区）       湖东  房本满五年   \n",
       "...     ...                        ...         ...      ...    ...   \n",
       "17994   昆山市  雅居乐二期前排，烫金楼层，4房，新城公园商圈物业好     昆山雅居乐花园       千灯   None   \n",
       "17995   昆山市      地铁口满五唯一 南北户型 小区中间景观楼层        东方华庭    玉山老城区  房本满五年   \n",
       "17996   昆山市   万科经典两房 小房间改造好 楼层位置无遮挡 满二      万科魅力花园       花桥   None   \n",
       "17997   昆山市   花苑简装小两房，南北通透，中间楼层，诚心买价可谈    花苑新村（花桥）       花桥  房本满五年   \n",
       "17998   昆山市         碧水佳园北区大两房，精装修，采光充足        碧水佳园       巴城  房本满五年   \n",
       "\n",
       "       total_price  unit_price hourseType  hourseSize direction fitment  \n",
       "0            825.0     49771.0       4室2厅      165.76         南      精装  \n",
       "1            788.0     46255.0       4室2厅      170.36       南 北      毛坯  \n",
       "2            519.0     43894.0       3室2厅      118.24         南      精装  \n",
       "3           1280.0     67178.0       4室2厅      190.54         东      精装  \n",
       "4            418.0     43093.0       2室2厅       97.00         南      精装  \n",
       "...            ...         ...        ...         ...       ...     ...  \n",
       "17994        160.0     13331.0       4室2厅      120.03       南 北      精装  \n",
       "17995        298.0     21077.0       3室2厅      141.39       南 北      简装  \n",
       "17996        125.0     18903.0       2室2厅       66.13         南      精装  \n",
       "17997        126.0     15756.0       2室2厅       79.97       南 北      简装  \n",
       "17998        118.0     14300.0       2室2厅       82.52         南      精装  \n",
       "\n",
       "[17999 rows x 11 columns]"
      ]
     },
     "execution_count": 15,
     "metadata": {},
     "output_type": "execute_result"
    },
    {
     "data": {
      "application/javascript": [
       "\n",
       "            setTimeout(function() {\n",
       "                var nbb_cell_id = 15;\n",
       "                var nbb_unformatted_code = \"data\";\n",
       "                var nbb_formatted_code = \"data\";\n",
       "                var nbb_cells = Jupyter.notebook.get_cells();\n",
       "                for (var i = 0; i < nbb_cells.length; ++i) {\n",
       "                    if (nbb_cells[i].input_prompt_number == nbb_cell_id) {\n",
       "                        if (nbb_cells[i].get_text() == nbb_unformatted_code) {\n",
       "                             nbb_cells[i].set_text(nbb_formatted_code);\n",
       "                        }\n",
       "                        break;\n",
       "                    }\n",
       "                }\n",
       "            }, 500);\n",
       "            "
      ],
      "text/plain": [
       "<IPython.core.display.Javascript object>"
      ]
     },
     "metadata": {},
     "output_type": "display_data"
    }
   ],
   "source": [
    "data"
   ]
  },
  {
   "cell_type": "code",
   "execution_count": 17,
   "metadata": {},
   "outputs": [
    {
     "data": {
      "application/javascript": [
       "\n",
       "            setTimeout(function() {\n",
       "                var nbb_cell_id = 17;\n",
       "                var nbb_unformatted_code = \"data.to_excel(\\\"suzhou.xlsx\\\",index=False)\";\n",
       "                var nbb_formatted_code = \"data.to_excel(\\\"suzhou.xlsx\\\", index=False)\";\n",
       "                var nbb_cells = Jupyter.notebook.get_cells();\n",
       "                for (var i = 0; i < nbb_cells.length; ++i) {\n",
       "                    if (nbb_cells[i].input_prompt_number == nbb_cell_id) {\n",
       "                        if (nbb_cells[i].get_text() == nbb_unformatted_code) {\n",
       "                             nbb_cells[i].set_text(nbb_formatted_code);\n",
       "                        }\n",
       "                        break;\n",
       "                    }\n",
       "                }\n",
       "            }, 500);\n",
       "            "
      ],
      "text/plain": [
       "<IPython.core.display.Javascript object>"
      ]
     },
     "metadata": {},
     "output_type": "display_data"
    }
   ],
   "source": [
    "data.to_excel(\"suzhou.xlsx\", index=False)"
   ]
  },
  {
   "cell_type": "code",
   "execution_count": 18,
   "metadata": {},
   "outputs": [
    {
     "data": {
      "application/javascript": [
       "\n",
       "            setTimeout(function() {\n",
       "                var nbb_cell_id = 18;\n",
       "                var nbb_unformatted_code = \"ad={'\\u9ad8\\u65b0\\u533a':'gaoxin1'}\";\n",
       "                var nbb_formatted_code = \"ad = {\\\"\\u9ad8\\u65b0\\u533a\\\": \\\"gaoxin1\\\"}\";\n",
       "                var nbb_cells = Jupyter.notebook.get_cells();\n",
       "                for (var i = 0; i < nbb_cells.length; ++i) {\n",
       "                    if (nbb_cells[i].input_prompt_number == nbb_cell_id) {\n",
       "                        if (nbb_cells[i].get_text() == nbb_unformatted_code) {\n",
       "                             nbb_cells[i].set_text(nbb_formatted_code);\n",
       "                        }\n",
       "                        break;\n",
       "                    }\n",
       "                }\n",
       "            }, 500);\n",
       "            "
      ],
      "text/plain": [
       "<IPython.core.display.Javascript object>"
      ]
     },
     "metadata": {},
     "output_type": "display_data"
    }
   ],
   "source": [
    "ad = {\"高新区\": \"gaoxin1\"}"
   ]
  },
  {
   "cell_type": "code",
   "execution_count": 19,
   "metadata": {},
   "outputs": [
    {
     "name": "stdout",
     "output_type": "stream",
     "text": [
      "💚高新区: 二手房源共计「9707」套\n"
     ]
    },
    {
     "name": "stderr",
     "output_type": "stream",
     "text": [
      "高新区: 100%|████████████████████████████████████████████████████████████████████████| 100/100 [01:24<00:00,  1.19it/s]\n"
     ]
    },
    {
     "data": {
      "application/javascript": [
       "\n",
       "            setTimeout(function() {\n",
       "                var nbb_cell_id = 19;\n",
       "                var nbb_unformatted_code = \"# \\u65b0\\u5efa\\u4e00\\u4e2aDataFrame\\u5b58\\u50a8\\u4fe1\\u606f\\ndata = pd.DataFrame()\\n\\nfor key_, value_ in ad.items(): \\n    # \\u83b7\\u53d6\\u8be5\\u884c\\u653f\\u533a\\u4e0b\\u623f\\u6e90\\u8bb0\\u5f55\\u6570\\n    start_url = \\\"https://su.lianjia.com/ershoufang/{}/\\\".format(value_)\\n    html = sess.get(start_url).text\\n    house_num = re.findall(\\\"\\u5171\\u627e\\u5230<span> (.*?) </span>\\u5957.*\\u4e8c\\u624b\\u623f\\\", html)[0].strip()\\n    print(\\\"\\ud83d\\udc9a{}: \\u4e8c\\u624b\\u623f\\u6e90\\u5171\\u8ba1\\u300c{}\\u300d\\u5957\\\".format(key_, house_num))\\n    time.sleep(1)\\n    # \\u9875\\u9762\\u9650\\u5236\\ud83d\\udeab \\u6bcf\\u4e2a\\u884c\\u653f\\u533a\\u53ea\\u80fd\\u83b7\\u53d6\\u6700\\u591a100\\u9875\\u5171\\u8ba13000\\u6761\\u623f\\u6e90\\u4fe1\\u606f\\n    total_page = int(math.ceil(min(3000, int(house_num)) / 30.0))\\n    for i in tqdm(range(total_page), desc=key_):\\n        html = sess.get(url.format(value_, i + 1)).text\\n        soup = BeautifulSoup(html, \\\"lxml\\\")\\n        info_collect = soup.find_all(class_=\\\"info clear\\\")\\n\\n        for info in info_collect:\\n            info_dic = {}\\n            # \\u884c\\u653f\\u533a\\n            info_dic[\\\"area\\\"] = key_\\n            # \\u623f\\u6e90\\u7684\\u6807\\u9898\\n            info_dic[\\\"title\\\"] = re_match('target=\\\"_blank\\\">(.*?)</a><!--', str(info))\\n            # \\u5c0f\\u533a\\u540d\\n            info_dic[\\\"community\\\"] = re_match(\\n                'xiaoqu.*?target=\\\"_blank\\\">(.*?)</a>', str(info)\\n            )\\n            # \\u4f4d\\u7f6e\\n            info_dic[\\\"position\\\"] = re_match(\\n                '<a href.*?target=\\\"_blank\\\">(.*?)</a>.*?class=\\\"address\\\">', str(info)\\n            )\\n            # \\u7a0e\\u76f8\\u5173\\uff0c\\u5982\\u623f\\u672c\\u6ee15\\u5e74\\n            info_dic[\\\"tax\\\"] = re_match('class=\\\"taxfree\\\">(.*?)</span>', str(info))\\n            # \\u603b\\u4ef7\\n            info_dic[\\\"total_price\\\"] = float(\\n                re_match('class=\\\"totalPrice\\\"><span>(.*?)</span>\\u4e07', str(info))\\n            )\\n            # \\u5355\\u4ef7\\n            info_dic[\\\"unit_price\\\"] = float(re_match('data-price=\\\"(.*?)\\\"', str(info)))\\n\\n            # \\u5339\\u914d\\u623f\\u6e90\\u6807\\u7b7e\\u4fe1\\u606f\\uff0c\\u901a\\u8fc7|\\u5207\\u5272\\n            # \\u5305\\u62ec\\u9762\\u79ef\\uff0c\\u671d\\u5411\\uff0c\\u88c5\\u4fee\\u7b49\\u4fe1\\u606f\\n            icons = (\\n                re.findall('class=\\\"houseIcon\\\"></span>(.*?)</div>', str(info))[0]\\n                .strip()\\n                .split(\\\"|\\\")\\n            )\\n            info_dic[\\\"hourseType\\\"] = icons[0].strip()\\n            info_dic[\\\"hourseSize\\\"] = float(icons[1].replace(\\\"\\u5e73\\u7c73\\\", \\\"\\\"))\\n            info_dic[\\\"direction\\\"] = icons[2].strip()\\n            info_dic[\\\"fitment\\\"] = icons[3].strip()\\n\\n            # \\u5b58\\u5165DataFrame\\n            if data.empty:\\n                data = pd.DataFrame(info_dic, index=[0])\\n            else:\\n                data = data.append(info_dic, ignore_index=True)\";\n",
       "                var nbb_formatted_code = \"# \\u65b0\\u5efa\\u4e00\\u4e2aDataFrame\\u5b58\\u50a8\\u4fe1\\u606f\\ndata = pd.DataFrame()\\n\\nfor key_, value_ in ad.items():\\n    # \\u83b7\\u53d6\\u8be5\\u884c\\u653f\\u533a\\u4e0b\\u623f\\u6e90\\u8bb0\\u5f55\\u6570\\n    start_url = \\\"https://su.lianjia.com/ershoufang/{}/\\\".format(value_)\\n    html = sess.get(start_url).text\\n    house_num = re.findall(\\\"\\u5171\\u627e\\u5230<span> (.*?) </span>\\u5957.*\\u4e8c\\u624b\\u623f\\\", html)[0].strip()\\n    print(\\\"\\ud83d\\udc9a{}: \\u4e8c\\u624b\\u623f\\u6e90\\u5171\\u8ba1\\u300c{}\\u300d\\u5957\\\".format(key_, house_num))\\n    time.sleep(1)\\n    # \\u9875\\u9762\\u9650\\u5236\\ud83d\\udeab \\u6bcf\\u4e2a\\u884c\\u653f\\u533a\\u53ea\\u80fd\\u83b7\\u53d6\\u6700\\u591a100\\u9875\\u5171\\u8ba13000\\u6761\\u623f\\u6e90\\u4fe1\\u606f\\n    total_page = int(math.ceil(min(3000, int(house_num)) / 30.0))\\n    for i in tqdm(range(total_page), desc=key_):\\n        html = sess.get(url.format(value_, i + 1)).text\\n        soup = BeautifulSoup(html, \\\"lxml\\\")\\n        info_collect = soup.find_all(class_=\\\"info clear\\\")\\n\\n        for info in info_collect:\\n            info_dic = {}\\n            # \\u884c\\u653f\\u533a\\n            info_dic[\\\"area\\\"] = key_\\n            # \\u623f\\u6e90\\u7684\\u6807\\u9898\\n            info_dic[\\\"title\\\"] = re_match('target=\\\"_blank\\\">(.*?)</a><!--', str(info))\\n            # \\u5c0f\\u533a\\u540d\\n            info_dic[\\\"community\\\"] = re_match(\\n                'xiaoqu.*?target=\\\"_blank\\\">(.*?)</a>', str(info)\\n            )\\n            # \\u4f4d\\u7f6e\\n            info_dic[\\\"position\\\"] = re_match(\\n                '<a href.*?target=\\\"_blank\\\">(.*?)</a>.*?class=\\\"address\\\">', str(info)\\n            )\\n            # \\u7a0e\\u76f8\\u5173\\uff0c\\u5982\\u623f\\u672c\\u6ee15\\u5e74\\n            info_dic[\\\"tax\\\"] = re_match('class=\\\"taxfree\\\">(.*?)</span>', str(info))\\n            # \\u603b\\u4ef7\\n            info_dic[\\\"total_price\\\"] = float(\\n                re_match('class=\\\"totalPrice\\\"><span>(.*?)</span>\\u4e07', str(info))\\n            )\\n            # \\u5355\\u4ef7\\n            info_dic[\\\"unit_price\\\"] = float(re_match('data-price=\\\"(.*?)\\\"', str(info)))\\n\\n            # \\u5339\\u914d\\u623f\\u6e90\\u6807\\u7b7e\\u4fe1\\u606f\\uff0c\\u901a\\u8fc7|\\u5207\\u5272\\n            # \\u5305\\u62ec\\u9762\\u79ef\\uff0c\\u671d\\u5411\\uff0c\\u88c5\\u4fee\\u7b49\\u4fe1\\u606f\\n            icons = (\\n                re.findall('class=\\\"houseIcon\\\"></span>(.*?)</div>', str(info))[0]\\n                .strip()\\n                .split(\\\"|\\\")\\n            )\\n            info_dic[\\\"hourseType\\\"] = icons[0].strip()\\n            info_dic[\\\"hourseSize\\\"] = float(icons[1].replace(\\\"\\u5e73\\u7c73\\\", \\\"\\\"))\\n            info_dic[\\\"direction\\\"] = icons[2].strip()\\n            info_dic[\\\"fitment\\\"] = icons[3].strip()\\n\\n            # \\u5b58\\u5165DataFrame\\n            if data.empty:\\n                data = pd.DataFrame(info_dic, index=[0])\\n            else:\\n                data = data.append(info_dic, ignore_index=True)\";\n",
       "                var nbb_cells = Jupyter.notebook.get_cells();\n",
       "                for (var i = 0; i < nbb_cells.length; ++i) {\n",
       "                    if (nbb_cells[i].input_prompt_number == nbb_cell_id) {\n",
       "                        if (nbb_cells[i].get_text() == nbb_unformatted_code) {\n",
       "                             nbb_cells[i].set_text(nbb_formatted_code);\n",
       "                        }\n",
       "                        break;\n",
       "                    }\n",
       "                }\n",
       "            }, 500);\n",
       "            "
      ],
      "text/plain": [
       "<IPython.core.display.Javascript object>"
      ]
     },
     "metadata": {},
     "output_type": "display_data"
    }
   ],
   "source": [
    "# 新建一个DataFrame存储信息\n",
    "data = pd.DataFrame()\n",
    "\n",
    "for key_, value_ in ad.items():\n",
    "    # 获取该行政区下房源记录数\n",
    "    start_url = \"https://su.lianjia.com/ershoufang/{}/\".format(value_)\n",
    "    html = sess.get(start_url).text\n",
    "    house_num = re.findall(\"共找到<span> (.*?) </span>套.*二手房\", html)[0].strip()\n",
    "    print(\"💚{}: 二手房源共计「{}」套\".format(key_, house_num))\n",
    "    time.sleep(1)\n",
    "    # 页面限制🚫 每个行政区只能获取最多100页共计3000条房源信息\n",
    "    total_page = int(math.ceil(min(3000, int(house_num)) / 30.0))\n",
    "    for i in tqdm(range(total_page), desc=key_):\n",
    "        html = sess.get(url.format(value_, i + 1)).text\n",
    "        soup = BeautifulSoup(html, \"lxml\")\n",
    "        info_collect = soup.find_all(class_=\"info clear\")\n",
    "\n",
    "        for info in info_collect:\n",
    "            info_dic = {}\n",
    "            # 行政区\n",
    "            info_dic[\"area\"] = key_\n",
    "            # 房源的标题\n",
    "            info_dic[\"title\"] = re_match('target=\"_blank\">(.*?)</a><!--', str(info))\n",
    "            # 小区名\n",
    "            info_dic[\"community\"] = re_match(\n",
    "                'xiaoqu.*?target=\"_blank\">(.*?)</a>', str(info)\n",
    "            )\n",
    "            # 位置\n",
    "            info_dic[\"position\"] = re_match(\n",
    "                '<a href.*?target=\"_blank\">(.*?)</a>.*?class=\"address\">', str(info)\n",
    "            )\n",
    "            # 税相关，如房本满5年\n",
    "            info_dic[\"tax\"] = re_match('class=\"taxfree\">(.*?)</span>', str(info))\n",
    "            # 总价\n",
    "            info_dic[\"total_price\"] = float(\n",
    "                re_match('class=\"totalPrice\"><span>(.*?)</span>万', str(info))\n",
    "            )\n",
    "            # 单价\n",
    "            info_dic[\"unit_price\"] = float(re_match('data-price=\"(.*?)\"', str(info)))\n",
    "\n",
    "            # 匹配房源标签信息，通过|切割\n",
    "            # 包括面积，朝向，装修等信息\n",
    "            icons = (\n",
    "                re.findall('class=\"houseIcon\"></span>(.*?)</div>', str(info))[0]\n",
    "                .strip()\n",
    "                .split(\"|\")\n",
    "            )\n",
    "            info_dic[\"hourseType\"] = icons[0].strip()\n",
    "            info_dic[\"hourseSize\"] = float(icons[1].replace(\"平米\", \"\"))\n",
    "            info_dic[\"direction\"] = icons[2].strip()\n",
    "            info_dic[\"fitment\"] = icons[3].strip()\n",
    "\n",
    "            # 存入DataFrame\n",
    "            if data.empty:\n",
    "                data = pd.DataFrame(info_dic, index=[0])\n",
    "            else:\n",
    "                data = data.append(info_dic, ignore_index=True)"
   ]
  },
  {
   "cell_type": "code",
   "execution_count": 20,
   "metadata": {},
   "outputs": [
    {
     "data": {
      "application/javascript": [
       "\n",
       "            setTimeout(function() {\n",
       "                var nbb_cell_id = 20;\n",
       "                var nbb_unformatted_code = \"data.to_excel(\\\"suzhou2.xlsx\\\", index=False)\";\n",
       "                var nbb_formatted_code = \"data.to_excel(\\\"suzhou2.xlsx\\\", index=False)\";\n",
       "                var nbb_cells = Jupyter.notebook.get_cells();\n",
       "                for (var i = 0; i < nbb_cells.length; ++i) {\n",
       "                    if (nbb_cells[i].input_prompt_number == nbb_cell_id) {\n",
       "                        if (nbb_cells[i].get_text() == nbb_unformatted_code) {\n",
       "                             nbb_cells[i].set_text(nbb_formatted_code);\n",
       "                        }\n",
       "                        break;\n",
       "                    }\n",
       "                }\n",
       "            }, 500);\n",
       "            "
      ],
      "text/plain": [
       "<IPython.core.display.Javascript object>"
      ]
     },
     "metadata": {},
     "output_type": "display_data"
    }
   ],
   "source": [
    "data.to_excel(\"suzhou2.xlsx\", index=False) "
   ]
  },
  {
   "cell_type": "code",
   "execution_count": null,
   "metadata": {},
   "outputs": [],
   "source": []
  }
 ],
 "metadata": {
  "kernelspec": {
   "display_name": "Python 3",
   "language": "python",
   "name": "python3"
  },
  "language_info": {
   "codemirror_mode": {
    "name": "ipython",
    "version": 3
   },
   "file_extension": ".py",
   "mimetype": "text/x-python",
   "name": "python",
   "nbconvert_exporter": "python",
   "pygments_lexer": "ipython3",
   "version": "3.8.3"
  },
  "toc": {
   "base_numbering": 1,
   "nav_menu": {},
   "number_sections": true,
   "sideBar": true,
   "skip_h1_title": false,
   "title_cell": "Table of Contents",
   "title_sidebar": "Contents",
   "toc_cell": false,
   "toc_position": {},
   "toc_section_display": true,
   "toc_window_display": false
  }
 },
 "nbformat": 4,
 "nbformat_minor": 4
}
